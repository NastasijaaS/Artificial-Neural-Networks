{
 "cells": [
  {
   "cell_type": "code",
   "execution_count": 1,
   "metadata": {},
   "outputs": [],
   "source": [
    "import pandas as pd\n",
    "import matplotlib.pyplot as plt\n",
    "import seaborn as sns"
   ]
  },
  {
   "cell_type": "code",
   "execution_count": 2,
   "metadata": {},
   "outputs": [
    {
     "data": {
      "text/html": [
       "<div>\n",
       "<style scoped>\n",
       "    .dataframe tbody tr th:only-of-type {\n",
       "        vertical-align: middle;\n",
       "    }\n",
       "\n",
       "    .dataframe tbody tr th {\n",
       "        vertical-align: top;\n",
       "    }\n",
       "\n",
       "    .dataframe thead th {\n",
       "        text-align: right;\n",
       "    }\n",
       "</style>\n",
       "<table border=\"1\" class=\"dataframe\">\n",
       "  <thead>\n",
       "    <tr style=\"text-align: right;\">\n",
       "      <th></th>\n",
       "      <th>Unnamed: 0</th>\n",
       "      <th>symbol</th>\n",
       "      <th>date</th>\n",
       "      <th>close</th>\n",
       "      <th>high</th>\n",
       "      <th>low</th>\n",
       "      <th>open</th>\n",
       "      <th>volume</th>\n",
       "      <th>adjClose</th>\n",
       "      <th>adjHigh</th>\n",
       "      <th>adjLow</th>\n",
       "      <th>adjOpen</th>\n",
       "      <th>adjVolume</th>\n",
       "      <th>divCash</th>\n",
       "      <th>splitFactor</th>\n",
       "    </tr>\n",
       "  </thead>\n",
       "  <tbody>\n",
       "    <tr>\n",
       "      <th>0</th>\n",
       "      <td>0</td>\n",
       "      <td>AAPL</td>\n",
       "      <td>2015-05-27 00:00:00+00:00</td>\n",
       "      <td>132.045</td>\n",
       "      <td>132.260</td>\n",
       "      <td>130.05</td>\n",
       "      <td>130.34</td>\n",
       "      <td>45833246</td>\n",
       "      <td>121.682558</td>\n",
       "      <td>121.880685</td>\n",
       "      <td>119.844118</td>\n",
       "      <td>120.111360</td>\n",
       "      <td>45833246</td>\n",
       "      <td>0.0</td>\n",
       "      <td>1.0</td>\n",
       "    </tr>\n",
       "    <tr>\n",
       "      <th>1</th>\n",
       "      <td>1</td>\n",
       "      <td>AAPL</td>\n",
       "      <td>2015-05-28 00:00:00+00:00</td>\n",
       "      <td>131.780</td>\n",
       "      <td>131.950</td>\n",
       "      <td>131.10</td>\n",
       "      <td>131.86</td>\n",
       "      <td>30733309</td>\n",
       "      <td>121.438354</td>\n",
       "      <td>121.595013</td>\n",
       "      <td>120.811718</td>\n",
       "      <td>121.512076</td>\n",
       "      <td>30733309</td>\n",
       "      <td>0.0</td>\n",
       "      <td>1.0</td>\n",
       "    </tr>\n",
       "    <tr>\n",
       "      <th>2</th>\n",
       "      <td>2</td>\n",
       "      <td>AAPL</td>\n",
       "      <td>2015-05-29 00:00:00+00:00</td>\n",
       "      <td>130.280</td>\n",
       "      <td>131.450</td>\n",
       "      <td>129.90</td>\n",
       "      <td>131.23</td>\n",
       "      <td>50884452</td>\n",
       "      <td>120.056069</td>\n",
       "      <td>121.134251</td>\n",
       "      <td>119.705890</td>\n",
       "      <td>120.931516</td>\n",
       "      <td>50884452</td>\n",
       "      <td>0.0</td>\n",
       "      <td>1.0</td>\n",
       "    </tr>\n",
       "    <tr>\n",
       "      <th>3</th>\n",
       "      <td>3</td>\n",
       "      <td>AAPL</td>\n",
       "      <td>2015-06-01 00:00:00+00:00</td>\n",
       "      <td>130.535</td>\n",
       "      <td>131.390</td>\n",
       "      <td>130.05</td>\n",
       "      <td>131.20</td>\n",
       "      <td>32112797</td>\n",
       "      <td>120.291057</td>\n",
       "      <td>121.078960</td>\n",
       "      <td>119.844118</td>\n",
       "      <td>120.903870</td>\n",
       "      <td>32112797</td>\n",
       "      <td>0.0</td>\n",
       "      <td>1.0</td>\n",
       "    </tr>\n",
       "    <tr>\n",
       "      <th>4</th>\n",
       "      <td>4</td>\n",
       "      <td>AAPL</td>\n",
       "      <td>2015-06-02 00:00:00+00:00</td>\n",
       "      <td>129.960</td>\n",
       "      <td>130.655</td>\n",
       "      <td>129.32</td>\n",
       "      <td>129.86</td>\n",
       "      <td>33667627</td>\n",
       "      <td>119.761181</td>\n",
       "      <td>120.401640</td>\n",
       "      <td>119.171406</td>\n",
       "      <td>119.669029</td>\n",
       "      <td>33667627</td>\n",
       "      <td>0.0</td>\n",
       "      <td>1.0</td>\n",
       "    </tr>\n",
       "    <tr>\n",
       "      <th>5</th>\n",
       "      <td>5</td>\n",
       "      <td>AAPL</td>\n",
       "      <td>2015-06-03 00:00:00+00:00</td>\n",
       "      <td>130.120</td>\n",
       "      <td>130.940</td>\n",
       "      <td>129.90</td>\n",
       "      <td>130.66</td>\n",
       "      <td>30983542</td>\n",
       "      <td>119.908625</td>\n",
       "      <td>120.664274</td>\n",
       "      <td>119.705890</td>\n",
       "      <td>120.406248</td>\n",
       "      <td>30983542</td>\n",
       "      <td>0.0</td>\n",
       "      <td>1.0</td>\n",
       "    </tr>\n",
       "    <tr>\n",
       "      <th>6</th>\n",
       "      <td>6</td>\n",
       "      <td>AAPL</td>\n",
       "      <td>2015-06-04 00:00:00+00:00</td>\n",
       "      <td>129.360</td>\n",
       "      <td>130.580</td>\n",
       "      <td>128.91</td>\n",
       "      <td>129.58</td>\n",
       "      <td>38450118</td>\n",
       "      <td>119.208267</td>\n",
       "      <td>120.332526</td>\n",
       "      <td>118.793582</td>\n",
       "      <td>119.411002</td>\n",
       "      <td>38450118</td>\n",
       "      <td>0.0</td>\n",
       "      <td>1.0</td>\n",
       "    </tr>\n",
       "    <tr>\n",
       "      <th>7</th>\n",
       "      <td>7</td>\n",
       "      <td>AAPL</td>\n",
       "      <td>2015-06-05 00:00:00+00:00</td>\n",
       "      <td>128.650</td>\n",
       "      <td>129.690</td>\n",
       "      <td>128.36</td>\n",
       "      <td>129.50</td>\n",
       "      <td>35626800</td>\n",
       "      <td>118.553986</td>\n",
       "      <td>119.512370</td>\n",
       "      <td>118.286744</td>\n",
       "      <td>119.337280</td>\n",
       "      <td>35626800</td>\n",
       "      <td>0.0</td>\n",
       "      <td>1.0</td>\n",
       "    </tr>\n",
       "    <tr>\n",
       "      <th>8</th>\n",
       "      <td>8</td>\n",
       "      <td>AAPL</td>\n",
       "      <td>2015-06-08 00:00:00+00:00</td>\n",
       "      <td>127.800</td>\n",
       "      <td>129.210</td>\n",
       "      <td>126.83</td>\n",
       "      <td>128.90</td>\n",
       "      <td>52674786</td>\n",
       "      <td>117.770691</td>\n",
       "      <td>119.070039</td>\n",
       "      <td>116.876813</td>\n",
       "      <td>118.784366</td>\n",
       "      <td>52674786</td>\n",
       "      <td>0.0</td>\n",
       "      <td>1.0</td>\n",
       "    </tr>\n",
       "    <tr>\n",
       "      <th>9</th>\n",
       "      <td>9</td>\n",
       "      <td>AAPL</td>\n",
       "      <td>2015-06-09 00:00:00+00:00</td>\n",
       "      <td>127.420</td>\n",
       "      <td>128.080</td>\n",
       "      <td>125.62</td>\n",
       "      <td>126.70</td>\n",
       "      <td>56075420</td>\n",
       "      <td>117.420512</td>\n",
       "      <td>118.028717</td>\n",
       "      <td>115.761770</td>\n",
       "      <td>116.757015</td>\n",
       "      <td>56075420</td>\n",
       "      <td>0.0</td>\n",
       "      <td>1.0</td>\n",
       "    </tr>\n",
       "  </tbody>\n",
       "</table>\n",
       "</div>"
      ],
      "text/plain": [
       "   Unnamed: 0 symbol                       date    close     high     low  \\\n",
       "0           0   AAPL  2015-05-27 00:00:00+00:00  132.045  132.260  130.05   \n",
       "1           1   AAPL  2015-05-28 00:00:00+00:00  131.780  131.950  131.10   \n",
       "2           2   AAPL  2015-05-29 00:00:00+00:00  130.280  131.450  129.90   \n",
       "3           3   AAPL  2015-06-01 00:00:00+00:00  130.535  131.390  130.05   \n",
       "4           4   AAPL  2015-06-02 00:00:00+00:00  129.960  130.655  129.32   \n",
       "5           5   AAPL  2015-06-03 00:00:00+00:00  130.120  130.940  129.90   \n",
       "6           6   AAPL  2015-06-04 00:00:00+00:00  129.360  130.580  128.91   \n",
       "7           7   AAPL  2015-06-05 00:00:00+00:00  128.650  129.690  128.36   \n",
       "8           8   AAPL  2015-06-08 00:00:00+00:00  127.800  129.210  126.83   \n",
       "9           9   AAPL  2015-06-09 00:00:00+00:00  127.420  128.080  125.62   \n",
       "\n",
       "     open    volume    adjClose     adjHigh      adjLow     adjOpen  \\\n",
       "0  130.34  45833246  121.682558  121.880685  119.844118  120.111360   \n",
       "1  131.86  30733309  121.438354  121.595013  120.811718  121.512076   \n",
       "2  131.23  50884452  120.056069  121.134251  119.705890  120.931516   \n",
       "3  131.20  32112797  120.291057  121.078960  119.844118  120.903870   \n",
       "4  129.86  33667627  119.761181  120.401640  119.171406  119.669029   \n",
       "5  130.66  30983542  119.908625  120.664274  119.705890  120.406248   \n",
       "6  129.58  38450118  119.208267  120.332526  118.793582  119.411002   \n",
       "7  129.50  35626800  118.553986  119.512370  118.286744  119.337280   \n",
       "8  128.90  52674786  117.770691  119.070039  116.876813  118.784366   \n",
       "9  126.70  56075420  117.420512  118.028717  115.761770  116.757015   \n",
       "\n",
       "   adjVolume  divCash  splitFactor  \n",
       "0   45833246      0.0          1.0  \n",
       "1   30733309      0.0          1.0  \n",
       "2   50884452      0.0          1.0  \n",
       "3   32112797      0.0          1.0  \n",
       "4   33667627      0.0          1.0  \n",
       "5   30983542      0.0          1.0  \n",
       "6   38450118      0.0          1.0  \n",
       "7   35626800      0.0          1.0  \n",
       "8   52674786      0.0          1.0  \n",
       "9   56075420      0.0          1.0  "
      ]
     },
     "execution_count": 2,
     "metadata": {},
     "output_type": "execute_result"
    }
   ],
   "source": [
    "data = pd.read_csv('AAPL.csv')\n",
    "data.head(10)"
   ]
  },
  {
   "cell_type": "code",
   "execution_count": 3,
   "metadata": {},
   "outputs": [
    {
     "data": {
      "text/plain": [
       "(1258, 15)"
      ]
     },
     "execution_count": 3,
     "metadata": {},
     "output_type": "execute_result"
    }
   ],
   "source": [
    "data.shape"
   ]
  },
  {
   "cell_type": "code",
   "execution_count": 4,
   "metadata": {},
   "outputs": [
    {
     "data": {
      "text/plain": [
       "Unnamed: 0       int64\n",
       "symbol          object\n",
       "date            object\n",
       "close          float64\n",
       "high           float64\n",
       "low            float64\n",
       "open           float64\n",
       "volume           int64\n",
       "adjClose       float64\n",
       "adjHigh        float64\n",
       "adjLow         float64\n",
       "adjOpen        float64\n",
       "adjVolume        int64\n",
       "divCash        float64\n",
       "splitFactor    float64\n",
       "dtype: object"
      ]
     },
     "execution_count": 4,
     "metadata": {},
     "output_type": "execute_result"
    }
   ],
   "source": [
    "data.dtypes"
   ]
  },
  {
   "cell_type": "code",
   "execution_count": 5,
   "metadata": {},
   "outputs": [],
   "source": [
    "data['date'] = pd.to_datetime(data['date'])"
   ]
  },
  {
   "cell_type": "code",
   "execution_count": 6,
   "metadata": {},
   "outputs": [],
   "source": [
    "data = data.drop(['symbol','Unnamed: 0','splitFactor', 'divCash'],axis=1)"
   ]
  },
  {
   "cell_type": "code",
   "execution_count": 7,
   "metadata": {},
   "outputs": [
    {
     "data": {
      "text/plain": [
       "date         0\n",
       "close        0\n",
       "high         0\n",
       "low          0\n",
       "open         0\n",
       "volume       0\n",
       "adjClose     0\n",
       "adjHigh      0\n",
       "adjLow       0\n",
       "adjOpen      0\n",
       "adjVolume    0\n",
       "dtype: int64"
      ]
     },
     "execution_count": 7,
     "metadata": {},
     "output_type": "execute_result"
    }
   ],
   "source": [
    "data.isnull().sum()"
   ]
  },
  {
   "cell_type": "code",
   "execution_count": 8,
   "metadata": {},
   "outputs": [
    {
     "data": {
      "image/png": "[encoded data removed]",
      "text/plain": [
       "<Figure size 2000x1500 with 10 Axes>"
      ]
     },
     "metadata": {},
     "output_type": "display_data"
    }
   ],
   "source": [
    "import matplotlib.pyplot as plt\n",
    "import seaborn as sns\n",
    "\n",
    "\n",
    "sns.set_style(\"whitegrid\")\n",
    "\n",
    "num_cols = 4 \n",
    "num_rows = (len(data.columns) - 2) // num_cols + 1 \n",
    "\n",
    "\n",
    "fig, axes = plt.subplots(num_rows, num_cols, figsize=(20, 15))\n",
    "\n",
    "for i, column in enumerate(data.columns[2:]):\n",
    "    row = i // num_cols\n",
    "    col = i % num_cols\n",
    "    sns.histplot(data[column], kde=True, ax=axes[row, col], color='skyblue')\n",
    "    axes[row, col].set_title(f'Distribution of {column}', fontsize=12)\n",
    "    axes[row, col].set_xlabel('')\n",
    "    axes[row, col].set_ylabel('')\n",
    "\n",
    "for i in range(len(data.columns[1:]), num_rows * num_cols):\n",
    "    row = i // num_cols\n",
    "    col = i % num_cols\n",
    "    fig.delaxes(axes[row, col])\n",
    "\n",
    "plt.tight_layout()\n",
    "plt.show()\n",
    "\n"
   ]
  },
  {
   "cell_type": "code",
   "execution_count": null,
   "metadata": {},
   "outputs": [],
   "source": [
    "for i in data.columns:\n",
    "    plt.figure(figsize = (10,2))\n",
    "    sns.boxplot(x = data[i])\n",
    "    plt.show()"
   ]
  },
  {
   "cell_type": "code",
   "execution_count": 9,
   "metadata": {},
   "outputs": [
    {
     "data": {
      "text/html": [
       "<div>\n",
       "<style scoped>\n",
       "    .dataframe tbody tr th:only-of-type {\n",
       "        vertical-align: middle;\n",
       "    }\n",
       "\n",
       "    .dataframe tbody tr th {\n",
       "        vertical-align: top;\n",
       "    }\n",
       "\n",
       "    .dataframe thead th {\n",
       "        text-align: right;\n",
       "    }\n",
       "</style>\n",
       "<table border=\"1\" class=\"dataframe\">\n",
       "  <thead>\n",
       "    <tr style=\"text-align: right;\">\n",
       "      <th></th>\n",
       "      <th>close</th>\n",
       "      <th>high</th>\n",
       "      <th>low</th>\n",
       "      <th>open</th>\n",
       "      <th>volume</th>\n",
       "      <th>adjClose</th>\n",
       "      <th>adjHigh</th>\n",
       "      <th>adjLow</th>\n",
       "      <th>adjOpen</th>\n",
       "      <th>adjVolume</th>\n",
       "    </tr>\n",
       "  </thead>\n",
       "  <tbody>\n",
       "    <tr>\n",
       "      <th>0</th>\n",
       "      <td>132.045</td>\n",
       "      <td>132.260</td>\n",
       "      <td>130.05</td>\n",
       "      <td>130.34</td>\n",
       "      <td>45833246</td>\n",
       "      <td>121.682558</td>\n",
       "      <td>121.880685</td>\n",
       "      <td>119.844118</td>\n",
       "      <td>120.111360</td>\n",
       "      <td>45833246</td>\n",
       "    </tr>\n",
       "    <tr>\n",
       "      <th>1</th>\n",
       "      <td>131.780</td>\n",
       "      <td>131.950</td>\n",
       "      <td>131.10</td>\n",
       "      <td>131.86</td>\n",
       "      <td>30733309</td>\n",
       "      <td>121.438354</td>\n",
       "      <td>121.595013</td>\n",
       "      <td>120.811718</td>\n",
       "      <td>121.512076</td>\n",
       "      <td>30733309</td>\n",
       "    </tr>\n",
       "    <tr>\n",
       "      <th>2</th>\n",
       "      <td>130.280</td>\n",
       "      <td>131.450</td>\n",
       "      <td>129.90</td>\n",
       "      <td>131.23</td>\n",
       "      <td>50884452</td>\n",
       "      <td>120.056069</td>\n",
       "      <td>121.134251</td>\n",
       "      <td>119.705890</td>\n",
       "      <td>120.931516</td>\n",
       "      <td>50884452</td>\n",
       "    </tr>\n",
       "    <tr>\n",
       "      <th>3</th>\n",
       "      <td>130.535</td>\n",
       "      <td>131.390</td>\n",
       "      <td>130.05</td>\n",
       "      <td>131.20</td>\n",
       "      <td>32112797</td>\n",
       "      <td>120.291057</td>\n",
       "      <td>121.078960</td>\n",
       "      <td>119.844118</td>\n",
       "      <td>120.903870</td>\n",
       "      <td>32112797</td>\n",
       "    </tr>\n",
       "    <tr>\n",
       "      <th>4</th>\n",
       "      <td>129.960</td>\n",
       "      <td>130.655</td>\n",
       "      <td>129.32</td>\n",
       "      <td>129.86</td>\n",
       "      <td>33667627</td>\n",
       "      <td>119.761181</td>\n",
       "      <td>120.401640</td>\n",
       "      <td>119.171406</td>\n",
       "      <td>119.669029</td>\n",
       "      <td>33667627</td>\n",
       "    </tr>\n",
       "  </tbody>\n",
       "</table>\n",
       "</div>"
      ],
      "text/plain": [
       "     close     high     low    open    volume    adjClose     adjHigh  \\\n",
       "0  132.045  132.260  130.05  130.34  45833246  121.682558  121.880685   \n",
       "1  131.780  131.950  131.10  131.86  30733309  121.438354  121.595013   \n",
       "2  130.280  131.450  129.90  131.23  50884452  120.056069  121.134251   \n",
       "3  130.535  131.390  130.05  131.20  32112797  120.291057  121.078960   \n",
       "4  129.960  130.655  129.32  129.86  33667627  119.761181  120.401640   \n",
       "\n",
       "       adjLow     adjOpen  adjVolume  \n",
       "0  119.844118  120.111360   45833246  \n",
       "1  120.811718  121.512076   30733309  \n",
       "2  119.705890  120.931516   50884452  \n",
       "3  119.844118  120.903870   32112797  \n",
       "4  119.171406  119.669029   33667627  "
      ]
     },
     "execution_count": 9,
     "metadata": {},
     "output_type": "execute_result"
    }
   ],
   "source": [
    "df_not_date = data.drop([\"date\"], axis=1)\n",
    "df_not_date.head()"
   ]
  },
  {
   "cell_type": "code",
   "execution_count": 10,
   "metadata": {},
   "outputs": [],
   "source": [
    "from sklearn.preprocessing import MinMaxScaler\n",
    "import numpy as np\n",
    "from sklearn.preprocessing import MinMaxScaler\n",
    "scaler = MinMaxScaler(feature_range=(0,1))\n",
    "data_scaled = scaler.fit_transform(np.array(df_not_date).reshape(-1,1))"
   ]
  },
  {
   "cell_type": "code",
   "execution_count": 14,
   "metadata": {},
   "outputs": [
    {
     "data": {
      "text/plain": [
       "(1258, 11)"
      ]
     },
     "execution_count": 14,
     "metadata": {},
     "output_type": "execute_result"
    }
   ],
   "source": [
    "data.shape"
   ]
  },
  {
   "cell_type": "code",
   "execution_count": 16,
   "metadata": {},
   "outputs": [
    {
     "data": {
      "text/html": [
       "<div>\n",
       "<style scoped>\n",
       "    .dataframe tbody tr th:only-of-type {\n",
       "        vertical-align: middle;\n",
       "    }\n",
       "\n",
       "    .dataframe tbody tr th {\n",
       "        vertical-align: top;\n",
       "    }\n",
       "\n",
       "    .dataframe thead th {\n",
       "        text-align: right;\n",
       "    }\n",
       "</style>\n",
       "<table border=\"1\" class=\"dataframe\">\n",
       "  <thead>\n",
       "    <tr style=\"text-align: right;\">\n",
       "      <th></th>\n",
       "      <th>date</th>\n",
       "      <th>close</th>\n",
       "      <th>high</th>\n",
       "      <th>low</th>\n",
       "      <th>open</th>\n",
       "      <th>volume</th>\n",
       "      <th>adjClose</th>\n",
       "      <th>adjHigh</th>\n",
       "      <th>adjLow</th>\n",
       "      <th>adjOpen</th>\n",
       "      <th>adjVolume</th>\n",
       "    </tr>\n",
       "  </thead>\n",
       "  <tbody>\n",
       "    <tr>\n",
       "      <th>0</th>\n",
       "      <td>2015-05-27 00:00:00+00:00</td>\n",
       "      <td>132.045</td>\n",
       "      <td>132.260</td>\n",
       "      <td>130.0500</td>\n",
       "      <td>130.34</td>\n",
       "      <td>45833246</td>\n",
       "      <td>121.682558</td>\n",
       "      <td>121.880685</td>\n",
       "      <td>119.844118</td>\n",
       "      <td>120.111360</td>\n",
       "      <td>45833246</td>\n",
       "    </tr>\n",
       "    <tr>\n",
       "      <th>1</th>\n",
       "      <td>2015-05-28 00:00:00+00:00</td>\n",
       "      <td>131.780</td>\n",
       "      <td>131.950</td>\n",
       "      <td>131.1000</td>\n",
       "      <td>131.86</td>\n",
       "      <td>30733309</td>\n",
       "      <td>121.438354</td>\n",
       "      <td>121.595013</td>\n",
       "      <td>120.811718</td>\n",
       "      <td>121.512076</td>\n",
       "      <td>30733309</td>\n",
       "    </tr>\n",
       "    <tr>\n",
       "      <th>2</th>\n",
       "      <td>2015-05-29 00:00:00+00:00</td>\n",
       "      <td>130.280</td>\n",
       "      <td>131.450</td>\n",
       "      <td>129.9000</td>\n",
       "      <td>131.23</td>\n",
       "      <td>50884452</td>\n",
       "      <td>120.056069</td>\n",
       "      <td>121.134251</td>\n",
       "      <td>119.705890</td>\n",
       "      <td>120.931516</td>\n",
       "      <td>50884452</td>\n",
       "    </tr>\n",
       "    <tr>\n",
       "      <th>3</th>\n",
       "      <td>2015-06-01 00:00:00+00:00</td>\n",
       "      <td>130.535</td>\n",
       "      <td>131.390</td>\n",
       "      <td>130.0500</td>\n",
       "      <td>131.20</td>\n",
       "      <td>32112797</td>\n",
       "      <td>120.291057</td>\n",
       "      <td>121.078960</td>\n",
       "      <td>119.844118</td>\n",
       "      <td>120.903870</td>\n",
       "      <td>32112797</td>\n",
       "    </tr>\n",
       "    <tr>\n",
       "      <th>4</th>\n",
       "      <td>2015-06-02 00:00:00+00:00</td>\n",
       "      <td>129.960</td>\n",
       "      <td>130.655</td>\n",
       "      <td>129.3200</td>\n",
       "      <td>129.86</td>\n",
       "      <td>33667627</td>\n",
       "      <td>119.761181</td>\n",
       "      <td>120.401640</td>\n",
       "      <td>119.171406</td>\n",
       "      <td>119.669029</td>\n",
       "      <td>33667627</td>\n",
       "    </tr>\n",
       "    <tr>\n",
       "      <th>...</th>\n",
       "      <td>...</td>\n",
       "      <td>...</td>\n",
       "      <td>...</td>\n",
       "      <td>...</td>\n",
       "      <td>...</td>\n",
       "      <td>...</td>\n",
       "      <td>...</td>\n",
       "      <td>...</td>\n",
       "      <td>...</td>\n",
       "      <td>...</td>\n",
       "      <td>...</td>\n",
       "    </tr>\n",
       "    <tr>\n",
       "      <th>1253</th>\n",
       "      <td>2020-05-18 00:00:00+00:00</td>\n",
       "      <td>314.960</td>\n",
       "      <td>316.500</td>\n",
       "      <td>310.3241</td>\n",
       "      <td>313.17</td>\n",
       "      <td>33843125</td>\n",
       "      <td>314.960000</td>\n",
       "      <td>316.500000</td>\n",
       "      <td>310.324100</td>\n",
       "      <td>313.170000</td>\n",
       "      <td>33843125</td>\n",
       "    </tr>\n",
       "    <tr>\n",
       "      <th>1254</th>\n",
       "      <td>2020-05-19 00:00:00+00:00</td>\n",
       "      <td>313.140</td>\n",
       "      <td>318.520</td>\n",
       "      <td>313.0100</td>\n",
       "      <td>315.03</td>\n",
       "      <td>25432385</td>\n",
       "      <td>313.140000</td>\n",
       "      <td>318.520000</td>\n",
       "      <td>313.010000</td>\n",
       "      <td>315.030000</td>\n",
       "      <td>25432385</td>\n",
       "    </tr>\n",
       "    <tr>\n",
       "      <th>1255</th>\n",
       "      <td>2020-05-20 00:00:00+00:00</td>\n",
       "      <td>319.230</td>\n",
       "      <td>319.520</td>\n",
       "      <td>316.2000</td>\n",
       "      <td>316.68</td>\n",
       "      <td>27876215</td>\n",
       "      <td>319.230000</td>\n",
       "      <td>319.520000</td>\n",
       "      <td>316.200000</td>\n",
       "      <td>316.680000</td>\n",
       "      <td>27876215</td>\n",
       "    </tr>\n",
       "    <tr>\n",
       "      <th>1256</th>\n",
       "      <td>2020-05-21 00:00:00+00:00</td>\n",
       "      <td>316.850</td>\n",
       "      <td>320.890</td>\n",
       "      <td>315.8700</td>\n",
       "      <td>318.66</td>\n",
       "      <td>25672211</td>\n",
       "      <td>316.850000</td>\n",
       "      <td>320.890000</td>\n",
       "      <td>315.870000</td>\n",
       "      <td>318.660000</td>\n",
       "      <td>25672211</td>\n",
       "    </tr>\n",
       "    <tr>\n",
       "      <th>1257</th>\n",
       "      <td>2020-05-22 00:00:00+00:00</td>\n",
       "      <td>318.890</td>\n",
       "      <td>319.230</td>\n",
       "      <td>315.3500</td>\n",
       "      <td>315.77</td>\n",
       "      <td>20450754</td>\n",
       "      <td>318.890000</td>\n",
       "      <td>319.230000</td>\n",
       "      <td>315.350000</td>\n",
       "      <td>315.770000</td>\n",
       "      <td>20450754</td>\n",
       "    </tr>\n",
       "  </tbody>\n",
       "</table>\n",
       "<p>1258 rows × 11 columns</p>\n",
       "</div>"
      ],
      "text/plain": [
       "                          date    close     high       low    open    volume  \\\n",
       "0    2015-05-27 00:00:00+00:00  132.045  132.260  130.0500  130.34  45833246   \n",
       "1    2015-05-28 00:00:00+00:00  131.780  131.950  131.1000  131.86  30733309   \n",
       "2    2015-05-29 00:00:00+00:00  130.280  131.450  129.9000  131.23  50884452   \n",
       "3    2015-06-01 00:00:00+00:00  130.535  131.390  130.0500  131.20  32112797   \n",
       "4    2015-06-02 00:00:00+00:00  129.960  130.655  129.3200  129.86  33667627   \n",
       "...                        ...      ...      ...       ...     ...       ...   \n",
       "1253 2020-05-18 00:00:00+00:00  314.960  316.500  310.3241  313.17  33843125   \n",
       "1254 2020-05-19 00:00:00+00:00  313.140  318.520  313.0100  315.03  25432385   \n",
       "1255 2020-05-20 00:00:00+00:00  319.230  319.520  316.2000  316.68  27876215   \n",
       "1256 2020-05-21 00:00:00+00:00  316.850  320.890  315.8700  318.66  25672211   \n",
       "1257 2020-05-22 00:00:00+00:00  318.890  319.230  315.3500  315.77  20450754   \n",
       "\n",
       "        adjClose     adjHigh      adjLow     adjOpen  adjVolume  \n",
       "0     121.682558  121.880685  119.844118  120.111360   45833246  \n",
       "1     121.438354  121.595013  120.811718  121.512076   30733309  \n",
       "2     120.056069  121.134251  119.705890  120.931516   50884452  \n",
       "3     120.291057  121.078960  119.844118  120.903870   32112797  \n",
       "4     119.761181  120.401640  119.171406  119.669029   33667627  \n",
       "...          ...         ...         ...         ...        ...  \n",
       "1253  314.960000  316.500000  310.324100  313.170000   33843125  \n",
       "1254  313.140000  318.520000  313.010000  315.030000   25432385  \n",
       "1255  319.230000  319.520000  316.200000  316.680000   27876215  \n",
       "1256  316.850000  320.890000  315.870000  318.660000   25672211  \n",
       "1257  318.890000  319.230000  315.350000  315.770000   20450754  \n",
       "\n",
       "[1258 rows x 11 columns]"
      ]
     },
     "execution_count": 16,
     "metadata": {},
     "output_type": "execute_result"
    }
   ],
   "source": [
    "data"
   ]
  },
  {
   "cell_type": "code",
   "execution_count": 15,
   "metadata": {},
   "outputs": [
    {
     "data": {
      "text/plain": [
       "array([[2.95357277e-07],\n",
       "       [2.96682750e-07],\n",
       "       [2.83058118e-07],\n",
       "       ...,\n",
       "       [1.42543117e-06],\n",
       "       [1.42802046e-06],\n",
       "       [1.26078219e-01]])"
      ]
     },
     "execution_count": 15,
     "metadata": {},
     "output_type": "execute_result"
    }
   ],
   "source": [
    "data_scaled"
   ]
  },
  {
   "cell_type": "code",
   "execution_count": 12,
   "metadata": {},
   "outputs": [
    {
     "name": "stdout",
     "output_type": "stream",
     "text": [
      "Dimenzije train_data: (8177, 1)\n",
      "Dimenzije test_data: (2516, 1)\n",
      "Dimenzije val_data: (1887, 1)\n"
     ]
    }
   ],
   "source": [
    "train_size = int(len(data_scaled) * 0.65)\n",
    "val_size = int(len(data_scaled) * 0.15)\n",
    "\n",
    "train_data, temp = data_scaled[0:train_size, :], data_scaled[train_size:len(data_scaled), :]\n",
    "\n",
    "test_size = len(temp) - val_size\n",
    "test_data, val_data = temp[0:test_size, :], temp[test_size:len(temp), :]\n",
    "\n",
    "print(\"Dimenzije train_data:\", train_data.shape)\n",
    "print(\"Dimenzije test_data:\", test_data.shape)\n",
    "print(\"Dimenzije val_data:\", val_data.shape)"
   ]
  },
  {
   "cell_type": "code",
   "execution_count": 13,
   "metadata": {},
   "outputs": [
    {
     "data": {
      "text/plain": [
       "8177"
      ]
     },
     "execution_count": 13,
     "metadata": {},
     "output_type": "execute_result"
    }
   ],
   "source": [
    "train_size"
   ]
  },
  {
   "cell_type": "code",
   "execution_count": 17,
   "metadata": {},
   "outputs": [],
   "source": [
    "def create_ds(dataset,time_steps):   #Time Steps is how many previous records considered to predict the current record\n",
    "    data_x,data_y = [],[]\n",
    "    for i in range(len(dataset)-time_steps-1):\n",
    "        a = dataset[i:(i+time_steps),0]\n",
    "        data_x.append(a)\n",
    "        b = dataset[i+time_steps,0]\n",
    "        data_y.append(b)\n",
    "    return np.array(data_x),np.array(data_y)"
   ]
  },
  {
   "cell_type": "code",
   "execution_count": 18,
   "metadata": {},
   "outputs": [],
   "source": [
    "time_step = 100\n",
    "X_train, y_train = create_ds(train_data, time_step)\n",
    "X_test, y_test = create_ds(test_data, time_step)\n",
    "X_valid, y_valid = create_ds(val_data, time_step)\n"
   ]
  },
  {
   "cell_type": "code",
   "execution_count": 19,
   "metadata": {},
   "outputs": [],
   "source": [
    "X_train =X_train.reshape(X_train.shape[0],X_train.shape[1] , 1)\n",
    "X_test = X_test.reshape(X_test.shape[0],X_test.shape[1] , 1)\n",
    "X_valid = X_valid.reshape(X_valid.shape[0],X_valid.shape[1] , 1)"
   ]
  },
  {
   "cell_type": "code",
   "execution_count": 20,
   "metadata": {},
   "outputs": [
    {
     "data": {
      "text/plain": [
       "(8076, 100, 1)"
      ]
     },
     "execution_count": 20,
     "metadata": {},
     "output_type": "execute_result"
    }
   ],
   "source": [
    "X_train.shape"
   ]
  },
  {
   "cell_type": "code",
   "execution_count": 21,
   "metadata": {},
   "outputs": [],
   "source": [
    "from sklearn.metrics import mean_squared_error\n",
    "from keras.models import Sequential\n",
    "from keras.layers import Dense,Dropout\n",
    "from keras.layers import LSTM\n",
    "from keras.callbacks import EarlyStopping\n",
    "from keras.callbacks import ModelCheckpoint"
   ]
  },
  {
   "cell_type": "code",
   "execution_count": 22,
   "metadata": {},
   "outputs": [],
   "source": [
    "early_stopping = EarlyStopping(\n",
    "    monitor='val_loss', patience=10, restore_best_weights=True)\n",
    "checkpoint = ModelCheckpoint(\n",
    "    'best_model.keras', monitor='val_loss', save_best_only=True)"
   ]
  },
  {
   "cell_type": "code",
   "execution_count": 23,
   "metadata": {},
   "outputs": [
    {
     "name": "stderr",
     "output_type": "stream",
     "text": [
      "c:\\Users\\Kaca\\AppData\\Local\\Programs\\Python\\Python311\\Lib\\site-packages\\keras\\src\\layers\\rnn\\rnn.py:205: UserWarning: Do not pass an `input_shape`/`input_dim` argument to a layer. When using Sequential models, prefer using an `Input(shape)` object as the first layer in the model instead.\n",
      "  super().__init__(**kwargs)\n"
     ]
    }
   ],
   "source": [
    "model=Sequential()\n",
    "model.add(LSTM(50,return_sequences=True,input_shape=(100,1)))\n",
    "model.add(LSTM(50,return_sequences=True))\n",
    "model.add(LSTM(50))\n",
    "model.add(Dense(1))\n",
    "\n",
    "# Ovde treba da se navedu sve mere\n",
    "model.compile(loss='mean_squared_error',optimizer='adam')"
   ]
  },
  {
   "cell_type": "code",
   "execution_count": 24,
   "metadata": {},
   "outputs": [
    {
     "data": {
      "text/html": [
       "<pre style=\"white-space:pre;overflow-x:auto;line-height:normal;font-family:Menlo,'DejaVu Sans Mono',consolas,'Courier New',monospace\"><span style=\"font-weight: bold\">Model: \"sequential\"</span>\n",
       "</pre>\n"
      ],
      "text/plain": [
       "\u001b[1mModel: \"sequential\"\u001b[0m\n"
      ]
     },
     "metadata": {},
     "output_type": "display_data"
    },
    {
     "data": {
      "text/html": [
       "<pre style=\"white-space:pre;overflow-x:auto;line-height:normal;font-family:Menlo,'DejaVu Sans Mono',consolas,'Courier New',monospace\">┏━━━━━━━━━━━━━━━━━━━━━━━━━━━━━━━━━┳━━━━━━━━━━━━━━━━━━━━━━━━┳━━━━━━━━━━━━━━━┓\n",
       "┃<span style=\"font-weight: bold\"> Layer (type)                    </span>┃<span style=\"font-weight: bold\"> Output Shape           </span>┃<span style=\"font-weight: bold\">       Param # </span>┃\n",
       "┡━━━━━━━━━━━━━━━━━━━━━━━━━━━━━━━━━╇━━━━━━━━━━━━━━━━━━━━━━━━╇━━━━━━━━━━━━━━━┩\n",
       "│ lstm (<span style=\"color: #0087ff; text-decoration-color: #0087ff\">LSTM</span>)                     │ (<span style=\"color: #00d7ff; text-decoration-color: #00d7ff\">None</span>, <span style=\"color: #00af00; text-decoration-color: #00af00\">100</span>, <span style=\"color: #00af00; text-decoration-color: #00af00\">50</span>)        │        <span style=\"color: #00af00; text-decoration-color: #00af00\">10,400</span> │\n",
       "├─────────────────────────────────┼────────────────────────┼───────────────┤\n",
       "│ lstm_1 (<span style=\"color: #0087ff; text-decoration-color: #0087ff\">LSTM</span>)                   │ (<span style=\"color: #00d7ff; text-decoration-color: #00d7ff\">None</span>, <span style=\"color: #00af00; text-decoration-color: #00af00\">100</span>, <span style=\"color: #00af00; text-decoration-color: #00af00\">50</span>)        │        <span style=\"color: #00af00; text-decoration-color: #00af00\">20,200</span> │\n",
       "├─────────────────────────────────┼────────────────────────┼───────────────┤\n",
       "│ lstm_2 (<span style=\"color: #0087ff; text-decoration-color: #0087ff\">LSTM</span>)                   │ (<span style=\"color: #00d7ff; text-decoration-color: #00d7ff\">None</span>, <span style=\"color: #00af00; text-decoration-color: #00af00\">50</span>)             │        <span style=\"color: #00af00; text-decoration-color: #00af00\">20,200</span> │\n",
       "├─────────────────────────────────┼────────────────────────┼───────────────┤\n",
       "│ dense (<span style=\"color: #0087ff; text-decoration-color: #0087ff\">Dense</span>)                   │ (<span style=\"color: #00d7ff; text-decoration-color: #00d7ff\">None</span>, <span style=\"color: #00af00; text-decoration-color: #00af00\">1</span>)              │            <span style=\"color: #00af00; text-decoration-color: #00af00\">51</span> │\n",
       "└─────────────────────────────────┴────────────────────────┴───────────────┘\n",
       "</pre>\n"
      ],
      "text/plain": [
       "┏━━━━━━━━━━━━━━━━━━━━━━━━━━━━━━━━━┳━━━━━━━━━━━━━━━━━━━━━━━━┳━━━━━━━━━━━━━━━┓\n",
       "┃\u001b[1m \u001b[0m\u001b[1mLayer (type)                   \u001b[0m\u001b[1m \u001b[0m┃\u001b[1m \u001b[0m\u001b[1mOutput Shape          \u001b[0m\u001b[1m \u001b[0m┃\u001b[1m \u001b[0m\u001b[1m      Param #\u001b[0m\u001b[1m \u001b[0m┃\n",
       "┡━━━━━━━━━━━━━━━━━━━━━━━━━━━━━━━━━╇━━━━━━━━━━━━━━━━━━━━━━━━╇━━━━━━━━━━━━━━━┩\n",
       "│ lstm (\u001b[38;5;33mLSTM\u001b[0m)                     │ (\u001b[38;5;45mNone\u001b[0m, \u001b[38;5;34m100\u001b[0m, \u001b[38;5;34m50\u001b[0m)        │        \u001b[38;5;34m10,400\u001b[0m │\n",
       "├─────────────────────────────────┼────────────────────────┼───────────────┤\n",
       "│ lstm_1 (\u001b[38;5;33mLSTM\u001b[0m)                   │ (\u001b[38;5;45mNone\u001b[0m, \u001b[38;5;34m100\u001b[0m, \u001b[38;5;34m50\u001b[0m)        │        \u001b[38;5;34m20,200\u001b[0m │\n",
       "├─────────────────────────────────┼────────────────────────┼───────────────┤\n",
       "│ lstm_2 (\u001b[38;5;33mLSTM\u001b[0m)                   │ (\u001b[38;5;45mNone\u001b[0m, \u001b[38;5;34m50\u001b[0m)             │        \u001b[38;5;34m20,200\u001b[0m │\n",
       "├─────────────────────────────────┼────────────────────────┼───────────────┤\n",
       "│ dense (\u001b[38;5;33mDense\u001b[0m)                   │ (\u001b[38;5;45mNone\u001b[0m, \u001b[38;5;34m1\u001b[0m)              │            \u001b[38;5;34m51\u001b[0m │\n",
       "└─────────────────────────────────┴────────────────────────┴───────────────┘\n"
      ]
     },
     "metadata": {},
     "output_type": "display_data"
    },
    {
     "data": {
      "text/html": [
       "<pre style=\"white-space:pre;overflow-x:auto;line-height:normal;font-family:Menlo,'DejaVu Sans Mono',consolas,'Courier New',monospace\"><span style=\"font-weight: bold\"> Total params: </span><span style=\"color: #00af00; text-decoration-color: #00af00\">50,851</span> (198.64 KB)\n",
       "</pre>\n"
      ],
      "text/plain": [
       "\u001b[1m Total params: \u001b[0m\u001b[38;5;34m50,851\u001b[0m (198.64 KB)\n"
      ]
     },
     "metadata": {},
     "output_type": "display_data"
    },
    {
     "data": {
      "text/html": [
       "<pre style=\"white-space:pre;overflow-x:auto;line-height:normal;font-family:Menlo,'DejaVu Sans Mono',consolas,'Courier New',monospace\"><span style=\"font-weight: bold\"> Trainable params: </span><span style=\"color: #00af00; text-decoration-color: #00af00\">50,851</span> (198.64 KB)\n",
       "</pre>\n"
      ],
      "text/plain": [
       "\u001b[1m Trainable params: \u001b[0m\u001b[38;5;34m50,851\u001b[0m (198.64 KB)\n"
      ]
     },
     "metadata": {},
     "output_type": "display_data"
    },
    {
     "data": {
      "text/html": [
       "<pre style=\"white-space:pre;overflow-x:auto;line-height:normal;font-family:Menlo,'DejaVu Sans Mono',consolas,'Courier New',monospace\"><span style=\"font-weight: bold\"> Non-trainable params: </span><span style=\"color: #00af00; text-decoration-color: #00af00\">0</span> (0.00 B)\n",
       "</pre>\n"
      ],
      "text/plain": [
       "\u001b[1m Non-trainable params: \u001b[0m\u001b[38;5;34m0\u001b[0m (0.00 B)\n"
      ]
     },
     "metadata": {},
     "output_type": "display_data"
    }
   ],
   "source": [
    "model.summary()"
   ]
  },
  {
   "cell_type": "code",
   "execution_count": 25,
   "metadata": {},
   "outputs": [],
   "source": [
    "def plot_train_history(history):\n",
    "    plt.figure(figsize=(15, 6))\n",
    "    plt.plot(history.history['loss'], label='Training Loss')\n",
    "    plt.plot(history.history['val_loss'], label='Validation Loss')\n",
    "    plt.title('Training and Validation Loss')\n",
    "    plt.xlabel('Epochs')\n",
    "    plt.ylabel('Loss')\n",
    "    plt.legend()\n",
    "    plt.show()"
   ]
  },
  {
   "cell_type": "code",
   "execution_count": 26,
   "metadata": {},
   "outputs": [],
   "source": [
    "all_results = pd.DataFrame(columns=['Model', 'RMSE', 'MAE', 'R2', 'MSE'])"
   ]
  },
  {
   "cell_type": "code",
   "execution_count": 27,
   "metadata": {},
   "outputs": [],
   "source": [
    "import sklearn.metrics as metrics\n",
    "\n",
    "def test_model(model, model_name, X_test, y_test, end=-1):\n",
    "    X_test = X_test[:end]\n",
    "    y_test = y_test[:end]\n",
    "    y_pred = model.predict(X_test).flatten()\n",
    "    rmse = np.sqrt(metrics.mean_squared_error(y_test, y_pred))\n",
    "    mae = metrics.mean_absolute_error(y_test, y_pred)\n",
    "    r2 = metrics.r2_score(y_test, y_pred)\n",
    "    mse = metrics.mean_squared_error(y_test, y_pred)\n",
    "    all_results.loc[len(all_results)] = [model_name, rmse, mae, r2, mse]\n",
    "\n",
    "    plt.figure(figsize=(15, 6))\n",
    "    plt.plot(y_test, label='True')\n",
    "    plt.plot(y_pred, label='Predicted')\n",
    "    plt.title(f'{model_name} Predictions')\n",
    "    plt.legend()\n",
    "    plt.show()\n",
    "\n",
    "    display(all_results[-1:])\n",
    "\n",
    "    # mean square error\n",
    "    # mean absolute error\n",
    "    # r2 score\n",
    "    # root mean squared error\n",
    "    # mean_absolute_percentage_error\n",
    "    # mean_squared_log_error"
   ]
  },
  {
   "cell_type": "code",
   "execution_count": 28,
   "metadata": {},
   "outputs": [
    {
     "name": "stderr",
     "output_type": "stream",
     "text": [
      "c:\\Users\\Kaca\\AppData\\Local\\Programs\\Python\\Python311\\Lib\\site-packages\\keras\\src\\layers\\rnn\\rnn.py:205: UserWarning: Do not pass an `input_shape`/`input_dim` argument to a layer. When using Sequential models, prefer using an `Input(shape)` object as the first layer in the model instead.\n",
      "  super().__init__(**kwargs)\n"
     ]
    },
    {
     "data": {
      "text/html": [
       "<pre style=\"white-space:pre;overflow-x:auto;line-height:normal;font-family:Menlo,'DejaVu Sans Mono',consolas,'Courier New',monospace\"><span style=\"font-weight: bold\">Model: \"sequential_1\"</span>\n",
       "</pre>\n"
      ],
      "text/plain": [
       "\u001b[1mModel: \"sequential_1\"\u001b[0m\n"
      ]
     },
     "metadata": {},
     "output_type": "display_data"
    },
    {
     "data": {
      "text/html": [
       "<pre style=\"white-space:pre;overflow-x:auto;line-height:normal;font-family:Menlo,'DejaVu Sans Mono',consolas,'Courier New',monospace\">┏━━━━━━━━━━━━━━━━━━━━━━━━━━━━━━━━━┳━━━━━━━━━━━━━━━━━━━━━━━━┳━━━━━━━━━━━━━━━┓\n",
       "┃<span style=\"font-weight: bold\"> Layer (type)                    </span>┃<span style=\"font-weight: bold\"> Output Shape           </span>┃<span style=\"font-weight: bold\">       Param # </span>┃\n",
       "┡━━━━━━━━━━━━━━━━━━━━━━━━━━━━━━━━━╇━━━━━━━━━━━━━━━━━━━━━━━━╇━━━━━━━━━━━━━━━┩\n",
       "│ lstm_3 (<span style=\"color: #0087ff; text-decoration-color: #0087ff\">LSTM</span>)                   │ (<span style=\"color: #00d7ff; text-decoration-color: #00d7ff\">None</span>, <span style=\"color: #00af00; text-decoration-color: #00af00\">100</span>, <span style=\"color: #00af00; text-decoration-color: #00af00\">50</span>)        │        <span style=\"color: #00af00; text-decoration-color: #00af00\">10,400</span> │\n",
       "├─────────────────────────────────┼────────────────────────┼───────────────┤\n",
       "│ dropout (<span style=\"color: #0087ff; text-decoration-color: #0087ff\">Dropout</span>)               │ (<span style=\"color: #00d7ff; text-decoration-color: #00d7ff\">None</span>, <span style=\"color: #00af00; text-decoration-color: #00af00\">100</span>, <span style=\"color: #00af00; text-decoration-color: #00af00\">50</span>)        │             <span style=\"color: #00af00; text-decoration-color: #00af00\">0</span> │\n",
       "├─────────────────────────────────┼────────────────────────┼───────────────┤\n",
       "│ lstm_4 (<span style=\"color: #0087ff; text-decoration-color: #0087ff\">LSTM</span>)                   │ (<span style=\"color: #00d7ff; text-decoration-color: #00d7ff\">None</span>, <span style=\"color: #00af00; text-decoration-color: #00af00\">50</span>)             │        <span style=\"color: #00af00; text-decoration-color: #00af00\">20,200</span> │\n",
       "├─────────────────────────────────┼────────────────────────┼───────────────┤\n",
       "│ dropout_1 (<span style=\"color: #0087ff; text-decoration-color: #0087ff\">Dropout</span>)             │ (<span style=\"color: #00d7ff; text-decoration-color: #00d7ff\">None</span>, <span style=\"color: #00af00; text-decoration-color: #00af00\">50</span>)             │             <span style=\"color: #00af00; text-decoration-color: #00af00\">0</span> │\n",
       "├─────────────────────────────────┼────────────────────────┼───────────────┤\n",
       "│ dense_1 (<span style=\"color: #0087ff; text-decoration-color: #0087ff\">Dense</span>)                 │ (<span style=\"color: #00d7ff; text-decoration-color: #00d7ff\">None</span>, <span style=\"color: #00af00; text-decoration-color: #00af00\">1</span>)              │            <span style=\"color: #00af00; text-decoration-color: #00af00\">51</span> │\n",
       "└─────────────────────────────────┴────────────────────────┴───────────────┘\n",
       "</pre>\n"
      ],
      "text/plain": [
       "┏━━━━━━━━━━━━━━━━━━━━━━━━━━━━━━━━━┳━━━━━━━━━━━━━━━━━━━━━━━━┳━━━━━━━━━━━━━━━┓\n",
       "┃\u001b[1m \u001b[0m\u001b[1mLayer (type)                   \u001b[0m\u001b[1m \u001b[0m┃\u001b[1m \u001b[0m\u001b[1mOutput Shape          \u001b[0m\u001b[1m \u001b[0m┃\u001b[1m \u001b[0m\u001b[1m      Param #\u001b[0m\u001b[1m \u001b[0m┃\n",
       "┡━━━━━━━━━━━━━━━━━━━━━━━━━━━━━━━━━╇━━━━━━━━━━━━━━━━━━━━━━━━╇━━━━━━━━━━━━━━━┩\n",
       "│ lstm_3 (\u001b[38;5;33mLSTM\u001b[0m)                   │ (\u001b[38;5;45mNone\u001b[0m, \u001b[38;5;34m100\u001b[0m, \u001b[38;5;34m50\u001b[0m)        │        \u001b[38;5;34m10,400\u001b[0m │\n",
       "├─────────────────────────────────┼────────────────────────┼───────────────┤\n",
       "│ dropout (\u001b[38;5;33mDropout\u001b[0m)               │ (\u001b[38;5;45mNone\u001b[0m, \u001b[38;5;34m100\u001b[0m, \u001b[38;5;34m50\u001b[0m)        │             \u001b[38;5;34m0\u001b[0m │\n",
       "├─────────────────────────────────┼────────────────────────┼───────────────┤\n",
       "│ lstm_4 (\u001b[38;5;33mLSTM\u001b[0m)                   │ (\u001b[38;5;45mNone\u001b[0m, \u001b[38;5;34m50\u001b[0m)             │        \u001b[38;5;34m20,200\u001b[0m │\n",
       "├─────────────────────────────────┼────────────────────────┼───────────────┤\n",
       "│ dropout_1 (\u001b[38;5;33mDropout\u001b[0m)             │ (\u001b[38;5;45mNone\u001b[0m, \u001b[38;5;34m50\u001b[0m)             │             \u001b[38;5;34m0\u001b[0m │\n",
       "├─────────────────────────────────┼────────────────────────┼───────────────┤\n",
       "│ dense_1 (\u001b[38;5;33mDense\u001b[0m)                 │ (\u001b[38;5;45mNone\u001b[0m, \u001b[38;5;34m1\u001b[0m)              │            \u001b[38;5;34m51\u001b[0m │\n",
       "└─────────────────────────────────┴────────────────────────┴───────────────┘\n"
      ]
     },
     "metadata": {},
     "output_type": "display_data"
    },
    {
     "data": {
      "text/html": [
       "<pre style=\"white-space:pre;overflow-x:auto;line-height:normal;font-family:Menlo,'DejaVu Sans Mono',consolas,'Courier New',monospace\"><span style=\"font-weight: bold\"> Total params: </span><span style=\"color: #00af00; text-decoration-color: #00af00\">30,651</span> (119.73 KB)\n",
       "</pre>\n"
      ],
      "text/plain": [
       "\u001b[1m Total params: \u001b[0m\u001b[38;5;34m30,651\u001b[0m (119.73 KB)\n"
      ]
     },
     "metadata": {},
     "output_type": "display_data"
    },
    {
     "data": {
      "text/html": [
       "<pre style=\"white-space:pre;overflow-x:auto;line-height:normal;font-family:Menlo,'DejaVu Sans Mono',consolas,'Courier New',monospace\"><span style=\"font-weight: bold\"> Trainable params: </span><span style=\"color: #00af00; text-decoration-color: #00af00\">30,651</span> (119.73 KB)\n",
       "</pre>\n"
      ],
      "text/plain": [
       "\u001b[1m Trainable params: \u001b[0m\u001b[38;5;34m30,651\u001b[0m (119.73 KB)\n"
      ]
     },
     "metadata": {},
     "output_type": "display_data"
    },
    {
     "data": {
      "text/html": [
       "<pre style=\"white-space:pre;overflow-x:auto;line-height:normal;font-family:Menlo,'DejaVu Sans Mono',consolas,'Courier New',monospace\"><span style=\"font-weight: bold\"> Non-trainable params: </span><span style=\"color: #00af00; text-decoration-color: #00af00\">0</span> (0.00 B)\n",
       "</pre>\n"
      ],
      "text/plain": [
       "\u001b[1m Non-trainable params: \u001b[0m\u001b[38;5;34m0\u001b[0m (0.00 B)\n"
      ]
     },
     "metadata": {},
     "output_type": "display_data"
    }
   ],
   "source": [
    "model=Sequential()\n",
    "model.add(LSTM(50,return_sequences=True,input_shape=(100,1)))\n",
    "model.add(Dropout(0.2))\n",
    "model.add(LSTM(50))\n",
    "model.add(Dropout(0.2))\n",
    "model.add(Dense(1))\n",
    "\n",
    "# Ovde treba da se navedu sve mere\n",
    "model.compile(loss='mean_squared_error',optimizer='adam')\n",
    "\n",
    "model.summary()"
   ]
  },
  {
   "cell_type": "code",
   "execution_count": 29,
   "metadata": {},
   "outputs": [
    {
     "name": "stdout",
     "output_type": "stream",
     "text": [
      "Epoch 1/10\n",
      "\u001b[1m228/228\u001b[0m \u001b[32m━━━━━━━━━━━━━━━━━━━━\u001b[0m\u001b[37m\u001b[0m \u001b[1m23s\u001b[0m 80ms/step - loss: 0.0103 - val_loss: 0.0027\n",
      "Epoch 2/10\n",
      "\u001b[1m228/228\u001b[0m \u001b[32m━━━━━━━━━━━━━━━━━━━━\u001b[0m\u001b[37m\u001b[0m \u001b[1m20s\u001b[0m 87ms/step - loss: 0.0050 - val_loss: 0.0021\n",
      "Epoch 3/10\n",
      "\u001b[1m228/228\u001b[0m \u001b[32m━━━━━━━━━━━━━━━━━━━━\u001b[0m\u001b[37m\u001b[0m \u001b[1m19s\u001b[0m 85ms/step - loss: 0.0045 - val_loss: 0.0021\n",
      "Epoch 4/10\n",
      "\u001b[1m228/228\u001b[0m \u001b[32m━━━━━━━━━━━━━━━━━━━━\u001b[0m\u001b[37m\u001b[0m \u001b[1m19s\u001b[0m 82ms/step - loss: 0.0033 - val_loss: 0.0013\n",
      "Epoch 5/10\n",
      "\u001b[1m228/228\u001b[0m \u001b[32m━━━━━━━━━━━━━━━━━━━━\u001b[0m\u001b[37m\u001b[0m \u001b[1m19s\u001b[0m 84ms/step - loss: 0.0022 - val_loss: 6.3858e-04\n",
      "Epoch 6/10\n",
      "\u001b[1m228/228\u001b[0m \u001b[32m━━━━━━━━━━━━━━━━━━━━\u001b[0m\u001b[37m\u001b[0m \u001b[1m19s\u001b[0m 84ms/step - loss: 0.0017 - val_loss: 5.7792e-04\n",
      "Epoch 7/10\n",
      "\u001b[1m228/228\u001b[0m \u001b[32m━━━━━━━━━━━━━━━━━━━━\u001b[0m\u001b[37m\u001b[0m \u001b[1m19s\u001b[0m 85ms/step - loss: 0.0013 - val_loss: 5.1521e-04\n",
      "Epoch 8/10\n",
      "\u001b[1m228/228\u001b[0m \u001b[32m━━━━━━━━━━━━━━━━━━━━\u001b[0m\u001b[37m\u001b[0m \u001b[1m19s\u001b[0m 85ms/step - loss: 0.0012 - val_loss: 4.9181e-04\n",
      "Epoch 9/10\n",
      "\u001b[1m228/228\u001b[0m \u001b[32m━━━━━━━━━━━━━━━━━━━━\u001b[0m\u001b[37m\u001b[0m \u001b[1m20s\u001b[0m 86ms/step - loss: 0.0012 - val_loss: 4.4152e-04\n",
      "Epoch 10/10\n",
      "\u001b[1m228/228\u001b[0m \u001b[32m━━━━━━━━━━━━━━━━━━━━\u001b[0m\u001b[37m\u001b[0m \u001b[1m20s\u001b[0m 87ms/step - loss: 0.0011 - val_loss: 4.7344e-04\n"
     ]
    }
   ],
   "source": [
    "history = model.fit(X_train, y_train,\n",
    "                    epochs=10, batch_size=32,\n",
    "                    validation_split=0.1,\n",
    "                    callbacks=[early_stopping, checkpoint])"
   ]
  },
  {
   "cell_type": "code",
   "execution_count": null,
   "metadata": {},
   "outputs": [],
   "source": [
    "from keras.models import load_model\n",
    "plot_train_history(history)\n",
    "best_model = load_model('best_model.keras')\n",
    "test_model(best_model, 'LSTM , Adam 0.001, LOSS MSE',\n",
    "           X_test, y_test, 200)"
   ]
  },
  {
   "cell_type": "code",
   "execution_count": null,
   "metadata": {},
   "outputs": [],
   "source": [
    "from keras.layers import SimpleRNN\n",
    "\n",
    "model_sequential = Sequential()\n",
    "model_sequential.add(SimpleRNN(50, input_shape=(100, 1)))\n",
    "model_sequential.add(Dense(1))\n",
    "model_sequential.compile(loss='mean_squared_error', optimizer='adam')\n",
    "model_sequential.summary()\n"
   ]
  },
  {
   "cell_type": "code",
   "execution_count": null,
   "metadata": {},
   "outputs": [],
   "source": [
    "history = model_sequential.fit(X_train, y_train,\n",
    "                    epochs=10, batch_size=32,\n",
    "                    validation_split=0.1,\n",
    "                    callbacks=[early_stopping, checkpoint])"
   ]
  },
  {
   "cell_type": "code",
   "execution_count": null,
   "metadata": {},
   "outputs": [],
   "source": [
    "plot_train_history(history)\n",
    "best_model = load_model('best_model.keras')\n",
    "test_model(model_sequential, 'Simple RNN',\n",
    "           X_test, y_test, 200)"
   ]
  },
  {
   "cell_type": "code",
   "execution_count": null,
   "metadata": {},
   "outputs": [],
   "source": [
    "model_reccurent = Sequential()\n",
    "model_reccurent.add(SimpleRNN(50, return_sequences=True, input_shape=(100, 1)))  # Prvi sloj RNN s povratnim sekvencama\n",
    "model_reccurent.add(SimpleRNN(50, return_sequences=True))  # Drugi sloj RNN s povratnim sekvencama\n",
    "model_reccurent.add(SimpleRNN(50))  # Treći sloj RNN bez povratnih sekvenci\n",
    "model_reccurent.add(Dense(1))\n",
    "model_reccurent.compile(loss='mean_squared_error', optimizer='adam')\n",
    "model_reccurent.summary()\n"
   ]
  },
  {
   "cell_type": "code",
   "execution_count": null,
   "metadata": {},
   "outputs": [],
   "source": [
    "history_reccurent = model_reccurent.fit(X_train, y_train,\n",
    "                    epochs=10, batch_size=32,\n",
    "                    validation_split=0.1,\n",
    "                    callbacks=[early_stopping, checkpoint])"
   ]
  },
  {
   "cell_type": "code",
   "execution_count": null,
   "metadata": {},
   "outputs": [],
   "source": [
    "plot_train_history(history_reccurent)\n",
    "best_model = load_model('best_model.keras')\n",
    "test_model(model_reccurent, 'Simple RNN',\n",
    "           X_test, y_test, 200)"
   ]
  },
  {
   "cell_type": "code",
   "execution_count": null,
   "metadata": {},
   "outputs": [],
   "source": [
    "model_lstm = Sequential()\n",
    "model_lstm.add(LSTM(50, input_shape=(100, 1)))\n",
    "model_lstm.add(Dense(1))\n",
    "model_lstm.compile(loss='mean_squared_error', optimizer='adam')\n",
    "model_lstm.summary()\n"
   ]
  },
  {
   "cell_type": "code",
   "execution_count": null,
   "metadata": {},
   "outputs": [],
   "source": [
    "history_lstm = model_lstm.fit(X_train, y_train,\n",
    "                    epochs=10, batch_size=32,\n",
    "                    validation_split=0.1,\n",
    "                    callbacks=[early_stopping, checkpoint])"
   ]
  },
  {
   "cell_type": "code",
   "execution_count": null,
   "metadata": {},
   "outputs": [],
   "source": [
    "plot_train_history(history_lstm)\n",
    "best_model = load_model('best_model.keras')\n",
    "test_model(model_lstm, 'Simple RNN',\n",
    "           X_test, y_test, 200)"
   ]
  },
  {
   "cell_type": "code",
   "execution_count": null,
   "metadata": {},
   "outputs": [],
   "source": [
    "model_multiple_lstm = Sequential()\n",
    "model_multiple_lstm.add(LSTM(50, return_sequences=True, input_shape=(100, 1)))\n",
    "model_multiple_lstm.add(LSTM(50))\n",
    "model_multiple_lstm.add(Dense(1))\n",
    "model_multiple_lstm.compile(loss='mean_squared_error', optimizer='adam')\n",
    "model_multiple_lstm.summary()\n"
   ]
  },
  {
   "cell_type": "code",
   "execution_count": null,
   "metadata": {},
   "outputs": [],
   "source": [
    "history_multiple_lstm = model_multiple_lstm.fit(X_train, y_train,\n",
    "                    epochs=10, batch_size=32,\n",
    "                    validation_split=0.1,\n",
    "                    callbacks=[early_stopping, checkpoint])"
   ]
  },
  {
   "cell_type": "code",
   "execution_count": null,
   "metadata": {},
   "outputs": [],
   "source": [
    "plot_train_history(history_multiple_lstm)\n",
    "best_model = load_model('best_model.keras')\n",
    "test_model(model_multiple_lstm, 'Multiple LSTM',\n",
    "           X_test, y_test, 200)"
   ]
  },
  {
   "cell_type": "code",
   "execution_count": null,
   "metadata": {},
   "outputs": [],
   "source": [
    "model_lstm_dropout = Sequential()\n",
    "model_lstm_dropout.add(LSTM(50, input_shape=(100, 1)))\n",
    "model_lstm_dropout.add(Dropout(0.2))\n",
    "model_lstm_dropout.add(Dense(1))\n",
    "model_lstm_dropout.compile(loss='mean_squared_error', optimizer='adam')\n",
    "model_lstm_dropout.summary()\n"
   ]
  },
  {
   "cell_type": "code",
   "execution_count": null,
   "metadata": {},
   "outputs": [],
   "source": [
    "history_lstm_dropout = model_lstm_dropout.fit(X_train, y_train,\n",
    "                    epochs=10, batch_size=32,\n",
    "                    validation_split=0.1,\n",
    "                    callbacks=[early_stopping, checkpoint])"
   ]
  },
  {
   "cell_type": "code",
   "execution_count": null,
   "metadata": {},
   "outputs": [],
   "source": [
    "plot_train_history(history_lstm_dropout)\n",
    "best_model = load_model('best_model.keras')\n",
    "test_model(model_lstm_dropout, 'Multiple LSTM',\n",
    "           X_test, y_test, 200)"
   ]
  },
  {
   "cell_type": "code",
   "execution_count": null,
   "metadata": {},
   "outputs": [],
   "source": [
    "model_multiple_lstm_dropout = Sequential()\n",
    "model_multiple_lstm_dropout.add(LSTM(50, return_sequences=True, input_shape=(100, 1)))\n",
    "model_multiple_lstm_dropout.add(Dropout(0.2))\n",
    "model_multiple_lstm_dropout.add(LSTM(50, return_sequences=True))\n",
    "model_multiple_lstm_dropout.add(Dropout(0.2))\n",
    "model_multiple_lstm_dropout.add(LSTM(50))\n",
    "model_multiple_lstm_dropout.add(Dropout(0.2))\n",
    "model_multiple_lstm_dropout.add(Dense(1))\n",
    "model_multiple_lstm_dropout.compile(loss='mean_squared_error', optimizer='adam')\n",
    "model_multiple_lstm_dropout.summary()\n"
   ]
  },
  {
   "cell_type": "code",
   "execution_count": null,
   "metadata": {},
   "outputs": [],
   "source": [
    "history_multiple_lstm_dropout = model_multiple_lstm_dropout.fit(X_train, y_train,\n",
    "                    epochs=10, batch_size=32,\n",
    "                    validation_split=0.1,\n",
    "                    callbacks=[early_stopping, checkpoint])"
   ]
  },
  {
   "cell_type": "code",
   "execution_count": null,
   "metadata": {},
   "outputs": [],
   "source": [
    "plot_train_history(history_multiple_lstm_dropout)\n",
    "best_model = load_model('best_model.keras')\n",
    "test_model(model_multiple_lstm_dropout, 'Multiple LSTM',\n",
    "           X_test, y_test, 200)"
   ]
  },
  {
   "cell_type": "code",
   "execution_count": null,
   "metadata": {},
   "outputs": [],
   "source": [
    "from keras.layers import GRU\n",
    "\n",
    "model_lstm_gru = Sequential()\n",
    "model_lstm_gru.add(LSTM(50, return_sequences=True, input_shape=(100, 1)))\n",
    "model_lstm_gru.add(GRU(50, return_sequences=True))\n",
    "model_lstm_gru.add(LSTM(50))\n",
    "model_lstm_gru.add(Dense(1))\n",
    "model_lstm_gru.compile(loss='mean_squared_error', optimizer='adam')\n",
    "model_lstm_gru.summary()\n"
   ]
  },
  {
   "cell_type": "code",
   "execution_count": null,
   "metadata": {},
   "outputs": [],
   "source": [
    "history_lstm_gru = model_lstm_gru.fit(X_train, y_train,\n",
    "                    epochs=10, batch_size=32,\n",
    "                    validation_split=0.1,\n",
    "                    callbacks=[early_stopping, checkpoint])"
   ]
  },
  {
   "cell_type": "code",
   "execution_count": null,
   "metadata": {},
   "outputs": [],
   "source": [
    "plot_train_history(history_lstm_gru)\n",
    "best_model = load_model('best_model.keras')\n",
    "test_model(model_lstm_gru, 'Multiple LSTM',\n",
    "           X_test, y_test, 200)"
   ]
  },
  {
   "cell_type": "code",
   "execution_count": null,
   "metadata": {},
   "outputs": [],
   "source": [
    "all_results.sort_values(by='MSE')"
   ]
  },
  {
   "cell_type": "code",
   "execution_count": null,
   "metadata": {},
   "outputs": [],
   "source": [
    "from keras.layers import Bidirectional\n",
    "\n",
    "model_bidirectional = Sequential()\n",
    "model_bidirectional.add(Bidirectional(LSTM(50, input_shape=(100, 1))))\n",
    "model_bidirectional.add(Dense(1))\n",
    "model_bidirectional.compile(loss='mean_squared_error', optimizer='adam')\n",
    "model_bidirectional.summary()\n"
   ]
  },
  {
   "cell_type": "code",
   "execution_count": null,
   "metadata": {},
   "outputs": [],
   "source": [
    "history_bidirectional = model_bidirectional.fit(X_train, y_train,\n",
    "                    epochs=10, batch_size=32,\n",
    "                    validation_split=0.1,\n",
    "                    callbacks=[early_stopping, checkpoint])"
   ]
  },
  {
   "cell_type": "code",
   "execution_count": null,
   "metadata": {},
   "outputs": [],
   "source": [
    "plot_train_history(history_bidirectional)\n",
    "best_model = load_model('best_model.keras')\n",
    "test_model(model_bidirectional, 'Bidirectional LSTM',\n",
    "           X_test, y_test, 200)"
   ]
  },
  {
   "cell_type": "code",
   "execution_count": null,
   "metadata": {},
   "outputs": [],
   "source": [
    "from keras.layers import Conv1D, MaxPooling1D\n",
    "\n",
    "model_conv_rnn = Sequential()\n",
    "model_conv_rnn.add(Conv1D(filters=64, kernel_size=3, activation='relu', input_shape=(100, 1)))\n",
    "model_conv_rnn.add(MaxPooling1D(pool_size=2))\n",
    "model_conv_rnn.add(LSTM(50))\n",
    "model_conv_rnn.add(Dense(1))\n",
    "model_conv_rnn.compile(loss='mean_squared_error', optimizer='adam')\n",
    "model_conv_rnn.summary()\n"
   ]
  },
  {
   "cell_type": "code",
   "execution_count": null,
   "metadata": {},
   "outputs": [],
   "source": [
    "history_conv_rnn = model_conv_rnn.fit(X_train, y_train,\n",
    "                    epochs=10, batch_size=32,\n",
    "                    validation_split=0.1,\n",
    "                    callbacks=[early_stopping, checkpoint])"
   ]
  },
  {
   "cell_type": "code",
   "execution_count": null,
   "metadata": {},
   "outputs": [],
   "source": [
    "plot_train_history(history_conv_rnn)\n",
    "best_model = load_model('best_model.keras')\n",
    "test_model(model_conv_rnn, 'Conv Rnn',\n",
    "           X_test, y_test, 200)"
   ]
  },
  {
   "cell_type": "code",
   "execution_count": null,
   "metadata": {},
   "outputs": [],
   "source": [
    "model_deep = Sequential()\n",
    "model_deep.add(Conv1D(filters=64, kernel_size=3, activation='relu', input_shape=(100, 1)))\n",
    "model_deep.add(MaxPooling1D(pool_size=2))\n",
    "model_deep.add(LSTM(50, return_sequences=True))\n",
    "model_deep.add(Dropout(0.2))\n",
    "model_deep.add(LSTM(50))\n",
    "model_deep.add(Dense(1))\n",
    "model_deep.compile(loss='mean_squared_error', optimizer='adam')\n",
    "model_deep.summary()\n"
   ]
  },
  {
   "cell_type": "code",
   "execution_count": null,
   "metadata": {},
   "outputs": [],
   "source": [
    "history_deep = model_deep.fit(X_train, y_train,\n",
    "                    epochs=10, batch_size=32,\n",
    "                    validation_split=0.1,\n",
    "                    callbacks=[early_stopping, checkpoint])"
   ]
  },
  {
   "cell_type": "code",
   "execution_count": null,
   "metadata": {},
   "outputs": [],
   "source": [
    "plot_train_history(history_deep)\n",
    "best_model = load_model('best_model.keras')\n",
    "test_model(model_deep, 'Conv Rnn',\n",
    "           X_test, y_test, 200)"
   ]
  }
 ],
 "metadata": {
  "kernelspec": {
   "display_name": "Python 3",
   "language": "python",
   "name": "python3"
  },
  "language_info": {
   "codemirror_mode": {
    "name": "ipython",
    "version": 3
   },
   "file_extension": ".py",
   "mimetype": "text/x-python",
   "name": "python",
   "nbconvert_exporter": "python",
   "pygments_lexer": "ipython3",
   "version": "3.11.0"
  }
 },
 "nbformat": 4,
 "nbformat_minor": 2
}
